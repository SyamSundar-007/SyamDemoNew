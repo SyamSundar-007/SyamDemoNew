{
 "cells": [
  {
   "cell_type": "markdown",
   "id": "b2829a94",
   "metadata": {},
   "source": [
    "Numpy is a linear algebra library for python"
   ]
  },
  {
   "cell_type": "code",
   "execution_count": 2,
   "id": "4dd5b395",
   "metadata": {},
   "outputs": [
    {
     "name": "stdout",
     "output_type": "stream",
     "text": [
      "Defaulting to user installation because normal site-packages is not writeable\n",
      "Requirement already satisfied: numpy in /usr/lib/python3/dist-packages (1.21.5)\n",
      "\n",
      "\u001b[1m[\u001b[0m\u001b[34;49mnotice\u001b[0m\u001b[1;39;49m]\u001b[0m\u001b[39;49m A new release of pip is available: \u001b[0m\u001b[31;49m23.3\u001b[0m\u001b[39;49m -> \u001b[0m\u001b[32;49m23.3.1\u001b[0m\n",
      "\u001b[1m[\u001b[0m\u001b[34;49mnotice\u001b[0m\u001b[1;39;49m]\u001b[0m\u001b[39;49m To update, run: \u001b[0m\u001b[32;49mpython3 -m pip install --upgrade pip\u001b[0m\n",
      "Note: you may need to restart the kernel to use updated packages.\n"
     ]
    }
   ],
   "source": [
    "pip install numpy"
   ]
  },
  {
   "cell_type": "markdown",
   "id": "a268efad",
   "metadata": {},
   "source": [
    "Numpy arrys are essentially comes in two flavours : vectors and matrices\n",
    "\n",
    "*** Vectors are strictly 1-d array and matices are 2-d and some time there can be only one row/ column in it ***"
   ]
  },
  {
   "cell_type": "code",
   "execution_count": 2,
   "id": "6729095f",
   "metadata": {},
   "outputs": [],
   "source": [
    "# Numpy Arrays\n",
    "my_list =[1,2,3,4]"
   ]
  },
  {
   "cell_type": "code",
   "execution_count": 4,
   "id": "072dbe57",
   "metadata": {},
   "outputs": [
    {
     "data": {
      "text/plain": [
       "array([1, 2, 3, 4])"
      ]
     },
     "execution_count": 4,
     "metadata": {},
     "output_type": "execute_result"
    }
   ],
   "source": [
    "import numpy as np\n",
    "\n",
    "# we are converting a list into an array by using np.array() method by passing list as an argument and it will\n",
    "# return an array\n",
    "arr = np.array(my_list)\n",
    "arr"
   ]
  },
  {
   "cell_type": "code",
   "execution_count": 30,
   "id": "653e9ab3",
   "metadata": {},
   "outputs": [],
   "source": [
    "# as similar to range function, here in numpy we have arange() function \n",
    "\n",
    "arr = np.arange(0,10,1)"
   ]
  },
  {
   "cell_type": "code",
   "execution_count": 36,
   "id": "1b6d3d1a",
   "metadata": {},
   "outputs": [
    {
     "data": {
      "text/plain": [
       "array([[0, 1, 2, 3, 4],\n",
       "       [5, 6, 7, 8, 9]])"
      ]
     },
     "execution_count": 36,
     "metadata": {},
     "output_type": "execute_result"
    }
   ],
   "source": [
    "#  reshape is used to convert or reshape a 1 d array to matrix of given size\n",
    "# arr\n",
    "arr_new = arr.reshape(2,5)\n",
    "arr_new"
   ]
  },
  {
   "cell_type": "code",
   "execution_count": 29,
   "id": "d8810f4c",
   "metadata": {},
   "outputs": [
    {
     "data": {
      "text/plain": [
       "array([0., 0., 0., 0., 0., 0., 0., 0., 0., 0.])"
      ]
     },
     "execution_count": 29,
     "metadata": {},
     "output_type": "execute_result"
    }
   ],
   "source": [
    "# there are some deicated methods to get an array of zeros and ones as follows\n",
    "\n",
    "np.zeros(10)\n"
   ]
  },
  {
   "cell_type": "code",
   "execution_count": 9,
   "id": "aefc54da",
   "metadata": {},
   "outputs": [
    {
     "data": {
      "text/plain": [
       "array([[0., 0., 0.],\n",
       "       [0., 0., 0.]])"
      ]
     },
     "execution_count": 9,
     "metadata": {},
     "output_type": "execute_result"
    }
   ],
   "source": [
    "np.zeros((2,3)) # here the 1st argument indicates rows and 2 nd indicates columns"
   ]
  },
  {
   "cell_type": "code",
   "execution_count": 11,
   "id": "3acf77d8",
   "metadata": {},
   "outputs": [
    {
     "data": {
      "text/plain": [
       "array([1., 1., 1., 1., 1., 1., 1., 1., 1., 1.])"
      ]
     },
     "execution_count": 11,
     "metadata": {},
     "output_type": "execute_result"
    }
   ],
   "source": [
    "np.ones(10)"
   ]
  },
  {
   "cell_type": "code",
   "execution_count": 13,
   "id": "135819ed",
   "metadata": {},
   "outputs": [
    {
     "data": {
      "text/plain": [
       "array([[1., 1., 1., 1.],\n",
       "       [1., 1., 1., 1.],\n",
       "       [1., 1., 1., 1.]])"
      ]
     },
     "execution_count": 13,
     "metadata": {},
     "output_type": "execute_result"
    }
   ],
   "source": [
    "np.ones((3,4))"
   ]
  },
  {
   "cell_type": "code",
   "execution_count": 15,
   "id": "df2bdc4f",
   "metadata": {},
   "outputs": [
    {
     "data": {
      "text/plain": [
       "array([ 0.        ,  0.52631579,  1.05263158,  1.57894737,  2.10526316,\n",
       "        2.63157895,  3.15789474,  3.68421053,  4.21052632,  4.73684211,\n",
       "        5.26315789,  5.78947368,  6.31578947,  6.84210526,  7.36842105,\n",
       "        7.89473684,  8.42105263,  8.94736842,  9.47368421, 10.        ])"
      ]
     },
     "execution_count": 15,
     "metadata": {},
     "output_type": "execute_result"
    }
   ],
   "source": [
    "# linspace gives evenly spaces values of the given range as follows\n",
    "\n",
    "np.linspace(0,10,20) # 1st arg is start, 2 nd arg is end , 3 rd is how many evenly spaced values needed between 1st and 2 nd arg\n"
   ]
  },
  {
   "cell_type": "code",
   "execution_count": 16,
   "id": "b2b3a0d6",
   "metadata": {},
   "outputs": [
    {
     "data": {
      "text/plain": [
       "array([[1., 0., 0., 0.],\n",
       "       [0., 1., 0., 0.],\n",
       "       [0., 0., 1., 0.],\n",
       "       [0., 0., 0., 1.]])"
      ]
     },
     "execution_count": 16,
     "metadata": {},
     "output_type": "execute_result"
    }
   ],
   "source": [
    "# Create Identity Matrix\n",
    "np.eye(4) # 4 is the matrix size\n"
   ]
  },
  {
   "cell_type": "code",
   "execution_count": 17,
   "id": "43b51e88",
   "metadata": {},
   "outputs": [
    {
     "data": {
      "text/plain": [
       "array([0.27968989, 0.08980428, 0.99776521, 0.42036476])"
      ]
     },
     "execution_count": 17,
     "metadata": {},
     "output_type": "execute_result"
    }
   ],
   "source": [
    "# Create a random matrix of 0 to 1 distribution\n",
    "np.random.rand(4)"
   ]
  },
  {
   "cell_type": "code",
   "execution_count": 18,
   "id": "f00330ef",
   "metadata": {},
   "outputs": [
    {
     "data": {
      "text/plain": [
       "array([-0.69942238, -1.41045498,  1.68727925, -0.94955969])"
      ]
     },
     "execution_count": 18,
     "metadata": {},
     "output_type": "execute_result"
    }
   ],
   "source": [
    "# Create a random matrix of any number  distribution\n",
    "np.random.randn(4)"
   ]
  },
  {
   "cell_type": "code",
   "execution_count": 22,
   "id": "505f92c8",
   "metadata": {},
   "outputs": [
    {
     "data": {
      "text/plain": [
       "array([2, 4, 2, 8, 9])"
      ]
     },
     "execution_count": 22,
     "metadata": {},
     "output_type": "execute_result"
    }
   ],
   "source": [
    "# return a set of random numbers from a given range\n",
    "np.random.randint(1,20,5) # 1st arg is starting number inclusive, 2 arg is exclusive, no.of values required from range of 1st and 2nd arg\n"
   ]
  },
  {
   "cell_type": "code",
   "execution_count": 24,
   "id": "67d3d5c3",
   "metadata": {},
   "outputs": [
    {
     "data": {
      "text/plain": [
       "array([ 0,  1,  2,  3,  4,  5,  6,  7,  8,  9, 10, 11, 12, 13, 14, 15, 16,\n",
       "       17, 18, 19, 20, 21, 22, 23, 24])"
      ]
     },
     "execution_count": 24,
     "metadata": {},
     "output_type": "execute_result"
    }
   ],
   "source": [
    "arr = np.arange(25)\n",
    "arr"
   ]
  },
  {
   "cell_type": "code",
   "execution_count": 27,
   "id": "0013dc74",
   "metadata": {},
   "outputs": [
    {
     "data": {
      "text/plain": [
       "array([46, 10,  7,  2,  0,  8,  8, 46, 27, 45])"
      ]
     },
     "execution_count": 27,
     "metadata": {},
     "output_type": "execute_result"
    }
   ],
   "source": [
    "ranarr = np.random.randint(0,50,10)\n",
    "ranarr"
   ]
  },
  {
   "cell_type": "code",
   "execution_count": 31,
   "id": "250d600c",
   "metadata": {},
   "outputs": [
    {
     "name": "stdout",
     "output_type": "stream",
     "text": [
      "46\n",
      "0\n"
     ]
    }
   ],
   "source": [
    "print(ranarr.max())\n",
    "print(ranarr.min())\n",
    "# get max value, min"
   ]
  },
  {
   "cell_type": "code",
   "execution_count": 32,
   "id": "37a32350",
   "metadata": {},
   "outputs": [
    {
     "name": "stdout",
     "output_type": "stream",
     "text": [
      "0\n",
      "4\n"
     ]
    }
   ],
   "source": [
    "#  to get the index of the max and min we use below methods\n",
    "\n",
    "print( ranarr.argmax())\n",
    "print(ranarr.argmin())"
   ]
  },
  {
   "cell_type": "code",
   "execution_count": 33,
   "id": "c01024ee",
   "metadata": {},
   "outputs": [
    {
     "data": {
      "text/plain": [
       "dtype('int64')"
      ]
     },
     "execution_count": 33,
     "metadata": {},
     "output_type": "execute_result"
    }
   ],
   "source": [
    "#  to check the datatype of the array we use dtype\n",
    "arr.dtype"
   ]
  },
  {
   "cell_type": "markdown",
   "id": "3e6dfc14",
   "metadata": {},
   "source": [
    "# Numpy indexing and selction"
   ]
  },
  {
   "cell_type": "code",
   "execution_count": 1,
   "id": "46b7c91f",
   "metadata": {},
   "outputs": [],
   "source": [
    "import numpy as np"
   ]
  },
  {
   "cell_type": "code",
   "execution_count": 2,
   "id": "980c1d6d",
   "metadata": {},
   "outputs": [],
   "source": [
    "arr = np.arange(0,11)"
   ]
  },
  {
   "cell_type": "code",
   "execution_count": 3,
   "id": "1e0cf01e",
   "metadata": {},
   "outputs": [
    {
     "data": {
      "text/plain": [
       "array([ 0,  1,  2,  3,  4,  5,  6,  7,  8,  9, 10])"
      ]
     },
     "execution_count": 3,
     "metadata": {},
     "output_type": "execute_result"
    }
   ],
   "source": [
    "arr"
   ]
  },
  {
   "cell_type": "code",
   "execution_count": 4,
   "id": "1a008072",
   "metadata": {},
   "outputs": [
    {
     "data": {
      "text/plain": [
       "array([0, 1, 2, 3, 4])"
      ]
     },
     "execution_count": 4,
     "metadata": {},
     "output_type": "execute_result"
    }
   ],
   "source": [
    "arr[0:5]"
   ]
  },
  {
   "cell_type": "code",
   "execution_count": 5,
   "id": "0f42f51e",
   "metadata": {},
   "outputs": [
    {
     "data": {
      "text/plain": [
       "array([0, 1, 2, 3])"
      ]
     },
     "execution_count": 5,
     "metadata": {},
     "output_type": "execute_result"
    }
   ],
   "source": [
    "arr[:4]"
   ]
  },
  {
   "cell_type": "code",
   "execution_count": 6,
   "id": "09996d6c",
   "metadata": {},
   "outputs": [
    {
     "data": {
      "text/plain": [
       "array([ 4,  5,  6,  7,  8,  9, 10])"
      ]
     },
     "execution_count": 6,
     "metadata": {},
     "output_type": "execute_result"
    }
   ],
   "source": [
    "arr[4:]"
   ]
  },
  {
   "cell_type": "code",
   "execution_count": 7,
   "id": "36b453b1",
   "metadata": {},
   "outputs": [],
   "source": [
    "#  bread casting, means it will set the value which we are assigning to the position that we are giving in the slicing as follows\n",
    "arr[0:5] = 200"
   ]
  },
  {
   "cell_type": "code",
   "execution_count": 8,
   "id": "63f3001c",
   "metadata": {},
   "outputs": [
    {
     "data": {
      "text/plain": [
       "array([200, 200, 200, 200, 200,   5,   6,   7,   8,   9,  10])"
      ]
     },
     "execution_count": 8,
     "metadata": {},
     "output_type": "execute_result"
    }
   ],
   "source": [
    "arr"
   ]
  },
  {
   "cell_type": "code",
   "execution_count": 9,
   "id": "fd677f3c",
   "metadata": {},
   "outputs": [
    {
     "data": {
      "text/plain": [
       "array([ 0,  1,  2,  3,  4,  5,  6,  7,  8,  9, 10])"
      ]
     },
     "execution_count": 9,
     "metadata": {},
     "output_type": "execute_result"
    }
   ],
   "source": [
    "arr = np.arange(0,11)\n",
    "arr"
   ]
  },
  {
   "cell_type": "code",
   "execution_count": 10,
   "id": "cfdd4735",
   "metadata": {},
   "outputs": [
    {
     "data": {
      "text/plain": [
       "array([0, 1, 2, 3, 4])"
      ]
     },
     "execution_count": 10,
     "metadata": {},
     "output_type": "execute_result"
    }
   ],
   "source": [
    "#  here we are witnessing a change in the orginal array even in if we changed the another array of sliced part\n",
    "slice_of_arr =  arr[0:5]\n",
    "slice_of_arr"
   ]
  },
  {
   "cell_type": "code",
   "execution_count": 11,
   "id": "2f1a9f8b",
   "metadata": {},
   "outputs": [
    {
     "data": {
      "text/plain": [
       "array([100, 100, 100, 100, 100])"
      ]
     },
     "execution_count": 11,
     "metadata": {},
     "output_type": "execute_result"
    }
   ],
   "source": [
    "slice_of_arr[:] = 100\n",
    "slice_of_arr"
   ]
  },
  {
   "cell_type": "code",
   "execution_count": 12,
   "id": "283df5f3",
   "metadata": {},
   "outputs": [
    {
     "data": {
      "text/plain": [
       "array([100, 100, 100, 100, 100,   5,   6,   7,   8,   9,  10])"
      ]
     },
     "execution_count": 12,
     "metadata": {},
     "output_type": "execute_result"
    }
   ],
   "source": [
    "arr"
   ]
  },
  {
   "cell_type": "code",
   "execution_count": 16,
   "id": "ba1a4733",
   "metadata": {},
   "outputs": [],
   "source": [
    "arr_copy = arr.copy()\n",
    "arr_copy[:] = 100"
   ]
  },
  {
   "cell_type": "code",
   "execution_count": 21,
   "id": "4f01cb4e",
   "metadata": {},
   "outputs": [
    {
     "name": "stdout",
     "output_type": "stream",
     "text": [
      "[100 100 100 100 100 100 100 100 100 100 100]\n",
      "[100 100 100 100 100   5   6   7   8   9  10]\n"
     ]
    }
   ],
   "source": [
    "#  above we made a copy of the existing array is we make any change in the copy it won't effect the original array\n",
    "print(arr_copy)\n",
    "print(arr)"
   ]
  },
  {
   "cell_type": "code",
   "execution_count": 22,
   "id": "73dc79ec",
   "metadata": {},
   "outputs": [
    {
     "data": {
      "text/plain": [
       "array([[27, 48, 92],\n",
       "       [28, 56, 49],\n",
       "       [10, 30, 47]])"
      ]
     },
     "execution_count": 22,
     "metadata": {},
     "output_type": "execute_result"
    }
   ],
   "source": [
    "list = [[27,48,92],[28,56,49],[10,30,47]]  \n",
    "array_new = np.array(list)\n",
    "array_new"
   ]
  },
  {
   "cell_type": "code",
   "execution_count": 23,
   "id": "a64f66f5",
   "metadata": {},
   "outputs": [
    {
     "data": {
      "text/plain": [
       "30"
      ]
     },
     "execution_count": 23,
     "metadata": {},
     "output_type": "execute_result"
    }
   ],
   "source": [
    "array_new[2,1]"
   ]
  },
  {
   "cell_type": "code",
   "execution_count": 26,
   "id": "8c30bcf5",
   "metadata": {},
   "outputs": [
    {
     "data": {
      "text/plain": [
       "array([[27, 48],\n",
       "       [28, 56]])"
      ]
     },
     "execution_count": 26,
     "metadata": {},
     "output_type": "execute_result"
    }
   ],
   "source": [
    "# slicing the matix\n",
    "\n",
    "array_new[:2,:2]\n"
   ]
  },
  {
   "cell_type": "code",
   "execution_count": 37,
   "id": "c240d6db",
   "metadata": {},
   "outputs": [
    {
     "data": {
      "text/plain": [
       "array([0, 1, 2, 3, 4, 5, 6, 7, 8, 9])"
      ]
     },
     "execution_count": 37,
     "metadata": {},
     "output_type": "execute_result"
    }
   ],
   "source": [
    "#  Conditonal selection\n",
    "array = np.arange(10)\n",
    "\n",
    "array"
   ]
  },
  {
   "cell_type": "code",
   "execution_count": 39,
   "id": "b6096ed9",
   "metadata": {},
   "outputs": [],
   "source": [
    "#  it returns a matrix of boolen value wherever it is matching with the condition\n",
    "boolean_arr = array>5\n",
    "# boolean_arr"
   ]
  },
  {
   "cell_type": "code",
   "execution_count": 40,
   "id": "09443741",
   "metadata": {},
   "outputs": [
    {
     "data": {
      "text/plain": [
       "array([False, False, False, False, False, False,  True,  True,  True,\n",
       "        True])"
      ]
     },
     "execution_count": 40,
     "metadata": {},
     "output_type": "execute_result"
    }
   ],
   "source": [
    "boolean_arr"
   ]
  },
  {
   "cell_type": "code",
   "execution_count": 41,
   "id": "ec89174f",
   "metadata": {},
   "outputs": [
    {
     "data": {
      "text/plain": [
       "array([6, 7, 8, 9])"
      ]
     },
     "execution_count": 41,
     "metadata": {},
     "output_type": "execute_result"
    }
   ],
   "source": [
    "array[boolean_arr]"
   ]
  },
  {
   "cell_type": "code",
   "execution_count": 42,
   "id": "66d02a3d",
   "metadata": {},
   "outputs": [
    {
     "data": {
      "text/plain": [
       "array([0, 1, 2, 3, 4])"
      ]
     },
     "execution_count": 42,
     "metadata": {},
     "output_type": "execute_result"
    }
   ],
   "source": [
    "array[array<5]"
   ]
  },
  {
   "cell_type": "markdown",
   "id": "ef14da68",
   "metadata": {},
   "source": [
    "# Numpy Operations\n",
    " .Array witha array\n",
    " .Array with scalars\n",
    " .Universal Array Functions"
   ]
  },
  {
   "cell_type": "code",
   "execution_count": 43,
   "id": "b2b9d621",
   "metadata": {},
   "outputs": [
    {
     "data": {
      "text/plain": [
       "array([0, 1, 2, 3, 4, 5, 6, 7, 8, 9])"
      ]
     },
     "execution_count": 43,
     "metadata": {},
     "output_type": "execute_result"
    }
   ],
   "source": [
    "array"
   ]
  },
  {
   "cell_type": "code",
   "execution_count": 44,
   "id": "bf37b870",
   "metadata": {},
   "outputs": [
    {
     "data": {
      "text/plain": [
       "array([ 0,  2,  4,  6,  8, 10, 12, 14, 16, 18])"
      ]
     },
     "execution_count": 44,
     "metadata": {},
     "output_type": "execute_result"
    }
   ],
   "source": [
    "#  adding 2 arrays\n",
    "array+array"
   ]
  },
  {
   "cell_type": "code",
   "execution_count": 45,
   "id": "b01f8f0b",
   "metadata": {},
   "outputs": [
    {
     "data": {
      "text/plain": [
       "array([ 0,  1,  4,  9, 16, 25, 36, 49, 64, 81])"
      ]
     },
     "execution_count": 45,
     "metadata": {},
     "output_type": "execute_result"
    }
   ],
   "source": [
    "array*array\n"
   ]
  },
  {
   "cell_type": "code",
   "execution_count": 46,
   "id": "1e1e2fb1",
   "metadata": {},
   "outputs": [
    {
     "data": {
      "text/plain": [
       "array([100, 101, 102, 103, 104, 105, 106, 107, 108, 109])"
      ]
     },
     "execution_count": 46,
     "metadata": {},
     "output_type": "execute_result"
    }
   ],
   "source": [
    "#  we can do operation by element by element\n",
    "array+100   # this will add 100 to each element in the array\n"
   ]
  },
  {
   "cell_type": "code",
   "execution_count": null,
   "id": "4011470b",
   "metadata": {},
   "outputs": [],
   "source": []
  }
 ],
 "metadata": {
  "kernelspec": {
   "display_name": "Python 3 (ipykernel)",
   "language": "python",
   "name": "python3"
  },
  "language_info": {
   "codemirror_mode": {
    "name": "ipython",
    "version": 3
   },
   "file_extension": ".py",
   "mimetype": "text/x-python",
   "name": "python",
   "nbconvert_exporter": "python",
   "pygments_lexer": "ipython3",
   "version": "3.10.12"
  }
 },
 "nbformat": 4,
 "nbformat_minor": 5
}
